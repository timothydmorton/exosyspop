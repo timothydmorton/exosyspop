{
 "cells": [
  {
   "cell_type": "code",
   "execution_count": 1,
   "metadata": {
    "collapsed": true
   },
   "outputs": [],
   "source": [
    "import os, sys\n",
    "import numpy as np\n",
    "import time\n",
    "from multiprocessing import Pool\n",
    "from multiprocessing.dummy import Pool as ThreadPool "
   ]
  },
  {
   "cell_type": "code",
   "execution_count": 2,
   "metadata": {
    "collapsed": true
   },
   "outputs": [],
   "source": [
    "def get_a_thing(seed=None):\n",
    "    \"\"\"Returns a number after a random amount of time\n",
    "    \"\"\"\n",
    "    np.random.seed()\n",
    "    t = np.random.random()*3\n",
    "    time.sleep(t)\n",
    "    return t\n",
    "\n",
    "def get_n_things(seed=None):\n",
    "    \"\"\"Returns a random number of random things\n",
    "    \"\"\"\n",
    "    n = int(np.random.random()*5)\n",
    "    return [get_a_thing() for i in range(n)]\n",
    "    \n",
    "    \n",
    "def build_list(N=6, msg='hello.'):\n",
    "    start = time.time()\n",
    "    N = int(N)\n",
    "    l = []\n",
    "    while len(l) < N:\n",
    "        l += (get_n_things())\n",
    "    end = time.time()\n",
    "    print('Built list of {} things on pid {}.  Took {:.3f}s. {}'.format(N, os.getpid(),\n",
    "                                                                       end-start,\n",
    "                                                                       msg))\n",
    "    sys.stdout.flush()\n",
    "    return l[:N]"
   ]
  },
  {
   "cell_type": "code",
   "execution_count": 3,
   "metadata": {
    "collapsed": false
   },
   "outputs": [
    {
     "name": "stdout",
     "output_type": "stream",
     "text": [
      "Built list of 4 things on pid 10286.  Took 6.679s. hello.\n"
     ]
    },
    {
     "data": {
      "text/plain": [
       "[1.5205096328923748,\n",
       " 2.0517572256985392,\n",
       " 0.31739338650658444,\n",
       " 2.745190905068869]"
      ]
     },
     "execution_count": 3,
     "metadata": {},
     "output_type": "execute_result"
    }
   ],
   "source": [
    "build_list(4)"
   ]
  },
  {
   "cell_type": "code",
   "execution_count": 31,
   "metadata": {
    "collapsed": false
   },
   "outputs": [],
   "source": [
    "from functools import partial\n",
    "import itertools\n",
    "\n",
    "def build_list_wrapper(args):\n",
    "    return build_list(*args)\n",
    "\n",
    "def run_parallel(N=8, threads=False):\n",
    "    start = time.time()\n",
    "    if threads:\n",
    "        pool = ThreadPool(4)\n",
    "    else:\n",
    "        pool = Pool(4)\n",
    "    \n",
    "        start = time.time()\n",
    "    \n",
    "    f = partial(build_list, msg='yo')\n",
    "        \n",
    "    results = pool.map(f, range(N))\n",
    "    \n",
    "    end = time.time()\n",
    "    print('{:.3} s'.format(end-start))\n",
    "    pool.terminate()\n",
    "    return results"
   ]
  },
  {
   "cell_type": "code",
   "execution_count": 32,
   "metadata": {
    "collapsed": false
   },
   "outputs": [
    {
     "name": "stdout",
     "output_type": "stream",
     "text": [
      "Built list of 0 things on pid 10286.  Took 0.000s. yo\n",
      "Built list of 2 things on pid 10286.  Took 2.726s. yo\n",
      "Built list of 1 things on pid 10286.  Took 4.988s. yo\n",
      "Built list of 3 things on pid 10286.  Took 6.790s. yo\n",
      "Built list of 4 things on pid 10286.  Took 12.516s. yo\n",
      "Built list of 5 things on pid 10286.  Took 10.345s. yo\n",
      "Built list of 6 things on pid 10286.  Took 10.499s. yo\n",
      "Built list of 7 things on pid 10286.  Took 8.717s. yo\n",
      "15.5 s\n"
     ]
    },
    {
     "data": {
      "text/plain": [
       "[[],\n",
       " [1.018741015833875],\n",
       " [1.9315918121362787, 0.7738834922977176],\n",
       " [0.19909977346885221, 2.076437143666374, 0.5430238775263693],\n",
       " [2.0729002796832754,\n",
       "  0.6952739799216717,\n",
       "  2.336141478402969,\n",
       "  1.5493230954663746],\n",
       " [1.1602512753493142,\n",
       "  0.11331577302782869,\n",
       "  2.5784789658830567,\n",
       "  2.7134176293599843,\n",
       "  1.2200994995631036],\n",
       " [2.9224428976370476,\n",
       "  0.3093354837648403,\n",
       "  1.9917850268367165,\n",
       "  1.2128619813519776,\n",
       "  1.0363784234829319,\n",
       "  2.9468843988107456],\n",
       " [1.917363475517086,\n",
       "  1.0519048018307924,\n",
       "  1.1278417548520963,\n",
       "  1.157408055067608,\n",
       "  0.8098359177273987,\n",
       "  0.6734979808260134,\n",
       "  0.9118311367568643]]"
      ]
     },
     "execution_count": 32,
     "metadata": {},
     "output_type": "execute_result"
    }
   ],
   "source": [
    "run_parallel(threads=True)"
   ]
  },
  {
   "cell_type": "code",
   "execution_count": null,
   "metadata": {
    "collapsed": true
   },
   "outputs": [],
   "source": []
  }
 ],
 "metadata": {
  "kernelspec": {
   "display_name": "Python 2",
   "language": "python",
   "name": "python2"
  },
  "language_info": {
   "codemirror_mode": {
    "name": "ipython",
    "version": 2
   },
   "file_extension": ".py",
   "mimetype": "text/x-python",
   "name": "python",
   "nbconvert_exporter": "python",
   "pygments_lexer": "ipython2",
   "version": "2.7.11"
  }
 },
 "nbformat": 4,
 "nbformat_minor": 0
}
