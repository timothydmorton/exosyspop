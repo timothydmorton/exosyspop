{
 "cells": [
  {
   "cell_type": "code",
   "execution_count": 1,
   "metadata": {
    "collapsed": false
   },
   "outputs": [
    {
     "name": "stderr",
     "output_type": "stream",
     "text": [
      "/Users/tdm/anaconda/lib/python2.7/site-packages/pandas/computation/__init__.py:19: UserWarning: The installed version of numexpr 2.4.4 is not supported in pandas and will be not be used\n",
      "\n",
      "  UserWarning)\n"
     ]
    }
   ],
   "source": [
    "from __future__ import division\n",
    "\n",
    "import pandas as pd\n",
    "from exosyspop.populations import BinaryPopulation\n",
    "from exosyspop.populations import TRILEGAL_BGBinaryPopulation\n",
    "from exosyspop.populations import KeplerBinaryPopulation, PoissonPlanetPopulation\n",
    "from exosyspop.populations import KeplerPowerLawBinaryPopulation\n",
    "from exosyspop.populations import PopulationMixture\n",
    "\n",
    "targets = pd.read_hdf('targets.h5')\n",
    "bgstars = pd.read_hdf('bgstars.h5')\n",
    "\n",
    "# Sanitize dtypes of targets DataFrame\n",
    "for c in targets.columns:\n",
    "    if targets[c].dtype == object:\n",
    "        targets.loc[:,c] = targets.loc[:,c].astype(str)\n",
    "\n",
    "\n",
    "import logging\n",
    "rootLogger = logging.getLogger()"
   ]
  },
  {
   "cell_type": "code",
   "execution_count": 2,
   "metadata": {
    "collapsed": false
   },
   "outputs": [],
   "source": [
    "#pop = KeplerPowerLawBinaryPopulation(targets)\n",
    "#pop._train_trap(N=1000)\n",
    "#pop.save('plaw_pop', overwrite=True)\n",
    "pop = KeplerPowerLawBinaryPopulation.load('plaw_pop')\n",
    "pop.set_params(period_min=20, period_max=1200, beta=-0.95, fB=0.14)\n",
    "catalog = pop.observe(new=True, regr_trap=True)"
   ]
  },
  {
   "cell_type": "code",
   "execution_count": 3,
   "metadata": {
    "collapsed": true
   },
   "outputs": [],
   "source": [
    "from exosyspop.survey import DetectionThreshold, DetectionRamp\n",
    "\n",
    "eff = DetectionRamp(6,16)"
   ]
  },
  {
   "cell_type": "code",
   "execution_count": 4,
   "metadata": {
    "collapsed": false
   },
   "outputs": [
    {
     "data": {
      "text/plain": [
       "{'beta': -0.95,\n",
       " 'beta_a': 0.8,\n",
       " 'beta_b': 2.0,\n",
       " 'fB': 0.14,\n",
       " 'gamma': 0.3,\n",
       " 'period_max': 1200,\n",
       " 'period_min': 20,\n",
       " 'qmin': 0.1}"
      ]
     },
     "execution_count": 4,
     "metadata": {},
     "output_type": "execute_result"
    }
   ],
   "source": [
    "pop.params"
   ]
  },
  {
   "cell_type": "code",
   "execution_count": 5,
   "metadata": {
    "collapsed": false
   },
   "outputs": [],
   "source": [
    "import sys\n",
    "sys.path.append('..')\n",
    "\n",
    "from simpleabc.simple_abc import Model, basic_abc, pmc_abc\n",
    "from scipy.stats import gaussian_kde, entropy, anderson_ksamp, uniform\n",
    "import numpy as np\n",
    "\n",
    "class PopulationModel(Model):\n",
    "    \"\"\"\n",
    "    Test model for stellar binary population where parameters are fB, beta\n",
    "    \"\"\"\n",
    "    def __init__(self, poplist, eff=None):\n",
    "        self.poplist = poplist     \n",
    "        self.eff = eff\n",
    "        self.period_min = poplist.params['period_min']\n",
    "        self.period_max = poplist.params['period_max']\n",
    "        \n",
    "    bounds = [(0,1), (-1.5,0)]\n",
    "    prior = [uniform(0,1), uniform(-1.5, 1.5)]\n",
    "        \n",
    "    def draw_theta(self):\n",
    "        \"\"\" Draw parameters from prior\n",
    "        \"\"\"\n",
    "        return [p.rvs() for p in self.prior]\n",
    "        \n",
    "    def generate_data(self, theta):\n",
    "        \"\"\"Generates synthetic catalog\n",
    "        \"\"\"\n",
    "        fB, beta = theta\n",
    "        self.poplist.set_params(fB=fB, beta=beta)\n",
    "        try:\n",
    "            return self.poplist.observe(new=True, \n",
    "                                        regr_trap=True).observe(self.eff)\n",
    "        except:\n",
    "            print('Error!  fB={}, beta={}'.format(fB,beta))\n",
    "            \n",
    "    def summary_stats(self, data):\n",
    "        \"\"\"Computes summary statistics from data\n",
    "        \"\"\"\n",
    "        if data is None:\n",
    "            return [np.nan]*3\n",
    "        \n",
    "        N = len(data)\n",
    "        \n",
    "        try:\n",
    "            Pmin, Pmax = np.log(self.period_min), np.log(self.period_max)\n",
    "            Pgrid = np.linspace(Pmin, Pmax, 1000)\n",
    "            if N > 1:\n",
    "                k = gaussian_kde(np.log(data.period.values))\n",
    "                p = k(Pgrid)\n",
    "            else:\n",
    "                p = np.ones(len(Pgrid))*1./(Pmax - Pmin)\n",
    "        except ValueError:\n",
    "            print(data.period.values)\n",
    "            raise\n",
    "        \n",
    "        phase_sec = data.phase_sec.dropna().values\n",
    "        \n",
    "        return p, N, phase_sec\n",
    "        \n",
    "    def d_period(self, summary_stats, summary_stats_synth):\n",
    "        p1, _, _ = summary_stats\n",
    "        p2, _, _ = summary_stats_synth\n",
    "        kl_period = entropy(p1, p2)\n",
    "        return kl_period\n",
    "    \n",
    "    def Ndist(self, N1, N2):\n",
    "        if N1==0. or N2==0.:\n",
    "            dist = 1\n",
    "        else:\n",
    "            dist = max(1 - 1.*N1/N2, 1-1*N2/N1)\n",
    "        return dist\n",
    "            \n",
    "    def d_N(self, summary_stats, summary_stats_synth):\n",
    "        _, N1, _ = summary_stats\n",
    "        _, N2, _ = summary_stats_synth\n",
    "        return self.Ndist(N1, N2) \n",
    "        \n",
    "    def d_fsec(self, summary_stats, summary_stats_synth):\n",
    "        _, N1, phase_sec1 = summary_stats\n",
    "        _, N2, phase_sec2 = summary_stats_synth\n",
    "        \n",
    "        f_sec1 = len(phase_sec1)/float(N1)\n",
    "        f_sec2 = len(phase_sec2)/float(N2)\n",
    "        \n",
    "        return np.absolute(f_sec1 - f_sec2)\n",
    "\n",
    "    def d_phase(self, summary_stats, summary_stats_synth, nbins=11):\n",
    "        _, _, phase_sec1 = summary_stats\n",
    "        _, _, phase_sec2 = summary_stats_synth\n",
    "\n",
    "        k1 = gaussian_kde(phase_sec1)\n",
    "        k2 = gaussian_kde(phase_sec2)\n",
    "\n",
    "        phs = np.linspace(0,1,100)\n",
    "        pdf1 = k1(phs)\n",
    "        pdf2 = k2(phs)\n",
    "        \n",
    "        return entropy(pdf1, pdf2)\n",
    "    \n",
    "    def distance_function(self, summary_stats, summary_stats_synth):\n",
    "        \"\"\"Computes distance\n",
    "        \"\"\"\n",
    "        d1 = self.d_period(summary_stats, summary_stats_synth)\n",
    "        d2 = self.d_N(summary_stats, summary_stats_synth)\n",
    "        #d3 = self.d_fsec(summary_stats, summary_stats_synth)\n",
    "        #d4 = self.d_phase(summary_stats, summary_stats_synth)\n",
    "        \n",
    "        return d1 + d2 * (0.015/0.072)  #renormalized based on null test\n",
    "        #return (d1 + d2 + d3 + d4)/4.\n",
    "        "
   ]
  },
  {
   "cell_type": "code",
   "execution_count": 6,
   "metadata": {
    "collapsed": true
   },
   "outputs": [],
   "source": [
    "model = PopulationModel(PopulationMixture([pop]))\n",
    "theta_0 = 0.14, -0.95\n",
    "data = model.generate_data(theta_0)\n",
    "model.set_data(data)"
   ]
  },
  {
   "cell_type": "raw",
   "metadata": {},
   "source": [
    "data1 = [model.generate_data(theta_0) for i in range(100)]\n",
    "data2 = [model.generate_data(theta_0) for i in range(100)]\n",
    "\n",
    "d1 = [model.d_period(model.summary_stats(data1[i]), \n",
    "                     model.summary_stats(data2[i])) for i in range(100)]\n",
    "d2 = [model.d_N(model.summary_stats(data1[i]), \n",
    "                model.summary_stats(data2[i])) for i in range(100)]\n",
    "print(np.std(d1), np.std(d2))"
   ]
  },
  {
   "cell_type": "code",
   "execution_count": 7,
   "metadata": {
    "collapsed": false
   },
   "outputs": [
    {
     "ename": "AttributeError",
     "evalue": "'tuple' object has no attribute 'draw_theta'",
     "output_type": "error",
     "traceback": [
      "\u001b[0;31m---------------------------------------------------------------------------\u001b[0m",
      "\u001b[0;31mAttributeError\u001b[0m                            Traceback (most recent call last)",
      "\u001b[0;32m<ipython-input-7-a24e3bdba705>\u001b[0m in \u001b[0;36m<module>\u001b[0;34m()\u001b[0m\n\u001b[1;32m      1\u001b[0m posterior = basic_abc(model, data, min_samples=10, epsilon=0.6, \n\u001b[0;32m----> 2\u001b[0;31m                       verbose=True)\n\u001b[0m",
      "\u001b[0;32m/Users/tdm/repositories/simpleabc/simple_abc.py\u001b[0m in \u001b[0;36mbasic_abc\u001b[0;34m(model, data, epsilon, min_samples, threads, parallel, n_procs, pmc_mode, weights, theta_prev, tau_squared, verbose, chunksize)\u001b[0m\n\u001b[1;32m    270\u001b[0m                     tau_squared=tau_squared)\n\u001b[1;32m    271\u001b[0m \u001b[0;34m\u001b[0m\u001b[0m\n\u001b[0;32m--> 272\u001b[0;31m     \u001b[0mposterior\u001b[0m\u001b[0;34m,\u001b[0m \u001b[0mdistances\u001b[0m\u001b[0;34m,\u001b[0m \u001b[0maccepted_count\u001b[0m \u001b[0;34m=\u001b[0m \u001b[0mmap\u001b[0m\u001b[0;34m(\u001b[0m\u001b[0mf\u001b[0m\u001b[0;34m,\u001b[0m \u001b[0mnp\u001b[0m\u001b[0;34m.\u001b[0m\u001b[0mones\u001b[0m\u001b[0;34m(\u001b[0m\u001b[0mmin_samples\u001b[0m\u001b[0;34m)\u001b[0m\u001b[0;34m)\u001b[0m\u001b[0;34m\u001b[0m\u001b[0m\n\u001b[0m\u001b[1;32m    273\u001b[0m \u001b[0;34m\u001b[0m\u001b[0m\n\u001b[1;32m    274\u001b[0m     \u001b[0;31m#posterior, distances, accepted_count, trial_count = f(min_samples)\u001b[0m\u001b[0;34m\u001b[0m\u001b[0;34m\u001b[0m\u001b[0m\n",
      "\u001b[0;32m/Users/tdm/repositories/simpleabc/simple_abc.py\u001b[0m in \u001b[0;36msample_theta\u001b[0;34m(N, model, data_summary_stats, epsilon, weights, pmc_mode, theta_prev, tau_squared)\u001b[0m\n\u001b[1;32m    163\u001b[0m \u001b[0;34m\u001b[0m\u001b[0m\n\u001b[1;32m    164\u001b[0m         \u001b[0;32melse\u001b[0m\u001b[0;34m:\u001b[0m\u001b[0;34m\u001b[0m\u001b[0m\n\u001b[0;32m--> 165\u001b[0;31m             \u001b[0mtheta\u001b[0m \u001b[0;34m=\u001b[0m \u001b[0mmodel\u001b[0m\u001b[0;34m.\u001b[0m\u001b[0mdraw_theta\u001b[0m\u001b[0;34m(\u001b[0m\u001b[0;34m)\u001b[0m\u001b[0;34m\u001b[0m\u001b[0m\n\u001b[0m\u001b[1;32m    166\u001b[0m \u001b[0;34m\u001b[0m\u001b[0m\n\u001b[1;32m    167\u001b[0m         \u001b[0;32mtry\u001b[0m\u001b[0;34m:\u001b[0m\u001b[0;34m\u001b[0m\u001b[0m\n",
      "\u001b[0;31mAttributeError\u001b[0m: 'tuple' object has no attribute 'draw_theta'"
     ]
    }
   ],
   "source": [
    "posterior = basic_abc(model, data, min_samples=10, epsilon=0.6, \n",
    "                      verbose=True)"
   ]
  },
  {
   "cell_type": "code",
   "execution_count": 33,
   "metadata": {
    "collapsed": false
   },
   "outputs": [
    {
     "data": {
      "image/png": "[encoded data removed]",
      "text/plain": [
       "<matplotlib.figure.Figure at 0x7fe670ffeb90>"
      ]
     },
     "metadata": {},
     "output_type": "display_data"
    }
   ],
   "source": [
    "%matplotlib inline\n",
    "import matplotlib.pyplot as plt\n",
    "\n",
    "fig, axes = plt.subplots(1,2, figsize=(10,4))\n",
    "hist_kwargs = dict(histtype='step', lw=3, color='k')\n",
    "axes[0].hist(posterior[0][0], **hist_kwargs);\n",
    "axes[1].hist(posterior[0][1], **hist_kwargs);\n"
   ]
  },
  {
   "cell_type": "code",
   "execution_count": 8,
   "metadata": {
    "collapsed": false
   },
   "outputs": [
    {
     "name": "stdout",
     "output_type": "stream",
     "text": [
      "Starting step 0\n",
      "50 samples accepted (50.0%).\n",
      "85 samples accepted (42.5%).\n",
      "Error!  fB=9.00996626778e-05, beta=-0.0601763669195\n",
      "Error generating data!\n",
      "Traceback (most recent call last):\n",
      "  File \"../simpleabc/simple_abc.py\", line 243, in basic_abc\n",
      "    synthetic_summary_stats = model.summary_stats(synthetic_data)\n",
      "  File \"<ipython-input-5-51e7081ccc92>\", line 40, in summary_stats\n",
      "    N = len(data)\n",
      "TypeError: object of type 'NoneType' has no len()\n",
      "\n",
      "Starting step 1\n",
      "49 samples accepted (49.0%).\n",
      "Starting step 2\n",
      "Error!  fB=0.00107201616328, beta=-0.974724863486\n",
      "Error generating data!\n",
      "Traceback (most recent call last):\n",
      "  File \"../simpleabc/simple_abc.py\", line 243, in basic_abc\n",
      "    synthetic_summary_stats = model.summary_stats(synthetic_data)\n",
      "  File \"<ipython-input-5-51e7081ccc92>\", line 40, in summary_stats\n",
      "    N = len(data)\n",
      "TypeError: object of type 'NoneType' has no len()\n",
      "\n",
      "35 samples accepted (35.0%).\n",
      "70 samples accepted (35.0%).\n",
      "Starting step 3\n",
      "Error!  fB=0.00337518417805, beta=-1.11879700271\n",
      "Error generating data!\n",
      "Traceback (most recent call last):\n",
      "  File \"../simpleabc/simple_abc.py\", line 243, in basic_abc\n",
      "    synthetic_summary_stats = model.summary_stats(synthetic_data)\n",
      "  File \"<ipython-input-5-51e7081ccc92>\", line 40, in summary_stats\n",
      "    N = len(data)\n",
      "TypeError: object of type 'NoneType' has no len()\n",
      "\n",
      "39 samples accepted (39.0%).\n",
      "78 samples accepted (39.0%).\n",
      "Starting step 4\n",
      "37 samples accepted (37.0%).\n",
      "77 samples accepted (38.5%).\n",
      "Starting step 5\n",
      "40 samples accepted (40.0%).\n",
      "Error!  fB=0.00110491895484, beta=-0.602403863396\n",
      "Error generating data!\n",
      "Traceback (most recent call last):\n",
      "  File \"../simpleabc/simple_abc.py\", line 243, in basic_abc\n",
      "    synthetic_summary_stats = model.summary_stats(synthetic_data)\n",
      "  File \"<ipython-input-5-51e7081ccc92>\", line 40, in summary_stats\n",
      "    N = len(data)\n",
      "TypeError: object of type 'NoneType' has no len()\n",
      "\n",
      "Error!  fB=0.00150132468288, beta=-0.944371885303\n",
      "Error generating data!\n",
      "Traceback (most recent call last):\n",
      "  File \"../simpleabc/simple_abc.py\", line 243, in basic_abc\n",
      "    synthetic_summary_stats = model.summary_stats(synthetic_data)\n",
      "  File \"<ipython-input-5-51e7081ccc92>\", line 40, in summary_stats\n",
      "    N = len(data)\n",
      "TypeError: object of type 'NoneType' has no len()\n",
      "\n",
      "72 samples accepted (36.0%).\n",
      "Starting step 6\n",
      "28 samples accepted (28.0%).\n",
      "70 samples accepted (35.0%).\n",
      "Starting step 7\n",
      "35 samples accepted (35.0%).\n",
      "68 samples accepted (34.0%).\n",
      "Starting step 8\n",
      "30 samples accepted (30.0%).\n",
      "65 samples accepted (32.5%).\n",
      "99 samples accepted (33.0%).\n",
      "Starting step 9\n",
      "32 samples accepted (32.0%).\n",
      "60 samples accepted (30.0%).\n",
      "90 samples accepted (30.0%).\n"
     ]
    }
   ],
   "source": [
    "pmc_posterior = pmc_abc(model, data, epsilon_0=0.2, min_samples=100, steps=10, verbose=True)"
   ]
  },
  {
   "cell_type": "code",
   "execution_count": 9,
   "metadata": {
    "collapsed": false
   },
   "outputs": [
    {
     "data": {
      "text/plain": [
       "(10,)"
      ]
     },
     "execution_count": 9,
     "metadata": {},
     "output_type": "execute_result"
    }
   ],
   "source": [
    "pmc_posterior.shape"
   ]
  },
  {
   "cell_type": "code",
   "execution_count": 10,
   "metadata": {
    "collapsed": false
   },
   "outputs": [
    {
     "data": {
      "text/plain": [
       "0.068507644952146035"
      ]
     },
     "execution_count": 10,
     "metadata": {},
     "output_type": "execute_result"
    }
   ],
   "source": [
    "pmc_posterior[-1]['epsilon']"
   ]
  },
  {
   "cell_type": "code",
   "execution_count": 11,
   "metadata": {
    "collapsed": false
   },
   "outputs": [
    {
     "data": {
      "image/png": "[encoded data removed]",
      "text/plain": [
       "<matplotlib.figure.Figure at 0x7f1d674ad810>"
      ]
     },
     "metadata": {},
     "output_type": "display_data"
    },
    {
     "data": {
      "image/png": "[encoded data removed]",
      "text/plain": [
       "<matplotlib.figure.Figure at 0x7f1d6721a3d0>"
      ]
     },
     "metadata": {},
     "output_type": "display_data"
    },
    {
     "data": {
      "image/png": "[encoded data removed]",
      "text/plain": [
       "<matplotlib.figure.Figure at 0x7f1d67358290>"
      ]
     },
     "metadata": {},
     "output_type": "display_data"
    },
    {
     "data": {
      "image/png": "[encoded data removed]",
      "text/plain": [
       "<matplotlib.figure.Figure at 0x7f1d67358650>"
      ]
     },
     "metadata": {},
     "output_type": "display_data"
    },
    {
     "data": {
      "image/png": "[encoded data removed]",
      "text/plain": [
       "<matplotlib.figure.Figure at 0x7f1d6740efd0>"
      ]
     },
     "metadata": {},
     "output_type": "display_data"
    },
    {
     "data": {
      "image/png": "[encoded data removed]",
      "text/plain": [
       "<matplotlib.figure.Figure at 0x7f1d67593910>"
      ]
     },
     "metadata": {},
     "output_type": "display_data"
    },
    {
     "data": {
      "image/png": "[encoded data removed]",
      "text/plain": [
       "<matplotlib.figure.Figure at 0x7f1d67593fd0>"
      ]
     },
     "metadata": {},
     "output_type": "display_data"
    },
    {
     "data": {
      "image/png": "[encoded data removed]",
      "text/plain": [
       "<matplotlib.figure.Figure at 0x7f1d673ae390>"
      ]
     },
     "metadata": {},
     "output_type": "display_data"
    },
    {
     "data": {
      "image/png": "[encoded data removed]",
      "text/plain": [
       "<matplotlib.figure.Figure at 0x7f1d6716e3d0>"
      ]
     },
     "metadata": {},
     "output_type": "display_data"
    },
    {
     "data": {
      "image/png": "[encoded data removed]",
      "text/plain": [
       "<matplotlib.figure.Figure at 0x7f1d67049e50>"
      ]
     },
     "metadata": {},
     "output_type": "display_data"
    }
   ],
   "source": [
    "%matplotlib inline\n",
    "import matplotlib.pyplot as plt\n",
    "\n",
    "for i in range(pmc_posterior.shape[0]):\n",
    "    plt.figure()\n",
    "    plt.plot(pmc_posterior[i][0][0,:], pmc_posterior[i][0][1,:], '.');\n",
    "    plt.title('epsilon = {}'.format(pmc_posterior[i]['epsilon']))\n",
    "    plt.plot(0.14, -0.95, 'rx', ms=20)\n",
    "    plt.xlim(0,1)\n",
    "    plt.ylim(-1.2, 0)"
   ]
  },
  {
   "cell_type": "code",
   "execution_count": 12,
   "metadata": {
    "collapsed": false
   },
   "outputs": [
    {
     "data": {
      "text/plain": [
       "Index([u'host', u'period', u'n_pri', u'logd_pri', u'dur_pri', u'slope_pri',\n",
       "       u'snr_pri', u'n_sec', u'logd_sec', u'dur_sec', u'slope_sec', u'snr_sec',\n",
       "       u'phase_sec'],\n",
       "      dtype='object')"
      ]
     },
     "execution_count": 12,
     "metadata": {},
     "output_type": "execute_result"
    }
   ],
   "source": [
    "model.data.columns"
   ]
  },
  {
   "cell_type": "code",
   "execution_count": 13,
   "metadata": {
    "collapsed": false
   },
   "outputs": [],
   "source": [
    "model.data.to_hdf('test_catalog.h5','df')"
   ]
  },
  {
   "cell_type": "markdown",
   "metadata": {
    "collapsed": true
   },
   "source": [
    "OK, let's try an MCMC to calculate the actual posterior here, which we can do.\n",
    "\n",
    "$$\\theta = (f_B, \\beta)$$\n",
    "$$\\Gamma_\\theta = f_B * "
   ]
  },
  {
   "cell_type": "code",
   "execution_count": 15,
   "metadata": {
    "collapsed": false
   },
   "outputs": [
    {
     "data": {
      "text/plain": [
       "(20, 1200)"
      ]
     },
     "execution_count": 15,
     "metadata": {},
     "output_type": "execute_result"
    }
   ],
   "source": [
    "model.period_min, model.period_max"
   ]
  },
  {
   "cell_type": "code",
   "execution_count": 16,
   "metadata": {
    "collapsed": false
   },
   "outputs": [
    {
     "data": {
      "text/plain": [
       "[(0, 1), (-1.5, 0)]"
      ]
     },
     "execution_count": 16,
     "metadata": {},
     "output_type": "execute_result"
    }
   ],
   "source": [
    "model.bounds"
   ]
  },
  {
   "cell_type": "code",
   "execution_count": 18,
   "metadata": {
    "collapsed": false
   },
   "outputs": [
    {
     "data": {
      "text/html": [
       "<div>\n",
       "<table border=\"1\" class=\"dataframe\">\n",
       "  <thead>\n",
       "    <tr style=\"text-align: right;\">\n",
       "      <th></th>\n",
       "      <th>radius</th>\n",
       "      <th>mass</th>\n",
       "    </tr>\n",
       "  </thead>\n",
       "  <tbody>\n",
       "    <tr>\n",
       "      <th>count</th>\n",
       "      <td>39626.000000</td>\n",
       "      <td>39626.000000</td>\n",
       "    </tr>\n",
       "    <tr>\n",
       "      <th>mean</th>\n",
       "      <td>0.879247</td>\n",
       "      <td>0.876959</td>\n",
       "    </tr>\n",
       "    <tr>\n",
       "      <th>std</th>\n",
       "      <td>0.130112</td>\n",
       "      <td>0.126328</td>\n",
       "    </tr>\n",
       "    <tr>\n",
       "      <th>min</th>\n",
       "      <td>0.372000</td>\n",
       "      <td>0.400000</td>\n",
       "    </tr>\n",
       "    <tr>\n",
       "      <th>25%</th>\n",
       "      <td>0.794000</td>\n",
       "      <td>0.790000</td>\n",
       "    </tr>\n",
       "    <tr>\n",
       "      <th>50%</th>\n",
       "      <td>0.882000</td>\n",
       "      <td>0.890000</td>\n",
       "    </tr>\n",
       "    <tr>\n",
       "      <th>75%</th>\n",
       "      <td>0.974000</td>\n",
       "      <td>0.980000</td>\n",
       "    </tr>\n",
       "    <tr>\n",
       "      <th>max</th>\n",
       "      <td>1.150000</td>\n",
       "      <td>1.220000</td>\n",
       "    </tr>\n",
       "  </tbody>\n",
       "</table>\n",
       "</div>"
      ],
      "text/plain": [
       "             radius          mass\n",
       "count  39626.000000  39626.000000\n",
       "mean       0.879247      0.876959\n",
       "std        0.130112      0.126328\n",
       "min        0.372000      0.400000\n",
       "25%        0.794000      0.790000\n",
       "50%        0.882000      0.890000\n",
       "75%        0.974000      0.980000\n",
       "max        1.150000      1.220000"
      ]
     },
     "execution_count": 18,
     "metadata": {},
     "output_type": "execute_result"
    }
   ],
   "source": [
    "targets[['radius', 'mass']].describe()"
   ]
  },
  {
   "cell_type": "code",
   "execution_count": 77,
   "metadata": {
    "collapsed": false
   },
   "outputs": [],
   "source": [
    "from exosyspop.utils import semimajor, RSUN, AU\n",
    "\n",
    "Rmean = targets.radius.mean()\n",
    "Mmean = targets.mass.mean()\n",
    "\n",
    "def pr_eclipse(period):\n",
    "    \"\"\"Approximate eclipse probability for period in days\n",
    "    \n",
    "    1.5*Rmean / amean(assuming mass=1.5*Mmena)\n",
    "    \"\"\"\n",
    "    a = semimajor(period, Mmean*1.5)\n",
    "    return 1.5*Rmean*RSUN/(a*AU)\n",
    "\n",
    "period_grid = np.linspace(period_rng[0], period_rng[1], 1000)\n",
    "pr_ecl_grid = pr_eclipse(period_grid)\n",
    "\n",
    "def pwin(period, dataspan, dutycycle):\n",
    "    M = dataspan/ period\n",
    "    f = dutycycle\n",
    "    omf = 1.0 - f\n",
    "    pw = 1 - omf**M - M*f*omf**(M-1) - 0.5*M*(M-1)*f*f*omf**(M-2)\n",
    "    msk = (pw >= 0.) * (M >= 2.0)\n",
    "    return pw*msk\n",
    "\n",
    "pwin_grid = np.array([pwin(p, targets.dataspan, targets.dutycycle).mean() for p in period_grid])\n"
   ]
  },
  {
   "cell_type": "code",
   "execution_count": 78,
   "metadata": {
    "collapsed": false
   },
   "outputs": [
    {
     "data": {
      "text/plain": [
       "[<matplotlib.lines.Line2D at 0x7f1d6710a650>]"
      ]
     },
     "execution_count": 78,
     "metadata": {},
     "output_type": "execute_result"
    },
    {
     "data": {
      "image/png": "[encoded data removed]",
      "text/plain": [
       "<matplotlib.figure.Figure at 0x7f1d66f84d50>"
      ]
     },
     "metadata": {},
     "output_type": "display_data"
    }
   ],
   "source": [
    "plt.plot(period_grid, pwin_grid)"
   ]
  },
  {
   "cell_type": "code",
   "execution_count": 22,
   "metadata": {
    "collapsed": false
   },
   "outputs": [
    {
     "data": {
      "text/plain": [
       "0.008360407404881141"
      ]
     },
     "execution_count": 22,
     "metadata": {},
     "output_type": "execute_result"
    }
   ],
   "source": [
    "pr_eclipse(200)"
   ]
  },
  {
   "cell_type": "code",
   "execution_count": 66,
   "metadata": {
    "collapsed": true
   },
   "outputs": [],
   "source": [
    "data = pd.read_hdf('test_catalog.h5')\n",
    "period_rng = (20, 1200)\n",
    "\n",
    "def population_model(theta, period):\n",
    "    fB, beta = theta\n",
    "    v = fB * np.ones_like(period)\n",
    "    beta1 = beta+1\n",
    "    v *= period**beta*beta1 / (period_rng[1]**beta1 - period_rng[0]**beta1)\n",
    "    return v\n",
    "    \n",
    "\n",
    "pr_ecl_data = pr_eclipse(data.period)\n",
    "def lnlike(theta):\n",
    "    pop = population_model(theta, period_grid) * pr_ecl_grid\n",
    "    norm = np.trapz(pop, period_grid)\n",
    "    #print(norm)\n",
    "    ll = np.sum(np.log(population_model(theta, data.period) * pr_ecl_data)) - norm\n",
    "    return ll if np.isfinite(ll) else -np.inf\n",
    "\n",
    "bounds = [(0,1), (-1.5,0)]\n",
    "def lnprob(theta):\n",
    "    for t, rng in zip(theta, bounds):\n",
    "        if not rng[0] < t < rng[1]:\n",
    "            return -np.inf\n",
    "    return lnlike(theta)\n",
    "    "
   ]
  },
  {
   "cell_type": "code",
   "execution_count": 64,
   "metadata": {
    "collapsed": false
   },
   "outputs": [
    {
     "data": {
      "text/plain": [
       "[<matplotlib.lines.Line2D at 0x7f1d66a86410>]"
      ]
     },
     "execution_count": 64,
     "metadata": {},
     "output_type": "execute_result"
    },
    {
     "data": {
      "image/png": "[encoded data removed]",
      "text/plain": [
       "<matplotlib.figure.Figure at 0x7f1d66b631d0>"
      ]
     },
     "metadata": {},
     "output_type": "display_data"
    }
   ],
   "source": [
    "def lhood_norm(theta):\n",
    "    pop = population_model(theta, period_grid) * pr_ecl_grid\n",
    "    return np.trapz(pop, period_grid)\n",
    "\n",
    "fB_grid = np.linspace(0,1,100)\n",
    "beta_grid = np.linspace(-1.5,0,101)\n",
    "norms = [lhood_norm([fB, -0.95]) for fB in fB_grid]\n",
    "#norms = [lhood_norm([0.2, b]) for b in beta_grid]\n",
    "plt.plot(fB_grid, norms)\n",
    "#plt.plot(beta_grid, norms)"
   ]
  },
  {
   "cell_type": "code",
   "execution_count": 67,
   "metadata": {
    "collapsed": false,
    "scrolled": true
   },
   "outputs": [
    {
     "name": "stdout",
     "output_type": "stream",
     "text": [
      "(0.0, -0.94999999999999996, -inf)\n",
      "(0.052631578947368418, -0.94999999999999996, -1485.5585479173517)\n",
      "(0.10526315789473684, -0.94999999999999996, -1404.4609985792922)\n",
      "(0.15789473684210525, -0.94999999999999996, -1357.0222517180905)\n",
      "(0.21052631578947367, -0.94999999999999996, -1323.3641200286856)\n",
      "(0.26315789473684209, -0.94999999999999996, -1297.2569953123775)\n",
      "(0.31578947368421051, -0.94999999999999996, -1275.9260439549382)\n",
      "(0.36842105263157893, -0.94999999999999996, -1257.8910852026027)\n",
      "(0.42105263157894735, -0.94999999999999996, -1242.2685830529874)\n",
      "(0.47368421052631576, -0.94999999999999996, -1228.4886386686442)\n",
      "(0.52631578947368418, -0.94999999999999996, -1216.1621291241324)\n",
      "(0.57894736842105265, -0.94999999999999996, -1205.0115088744803)\n",
      "(0.63157894736842102, -0.94999999999999996, -1194.8318485541477)\n",
      "(0.68421052631578938, -0.94999999999999996, -1185.4675225437977)\n",
      "(0.73684210526315785, -0.94999999999999996, -1176.7975605892661)\n",
      "(0.78947368421052633, -0.94999999999999996, -1168.7260654127465)\n",
      "(0.84210526315789469, -0.94999999999999996, -1161.1757292271045)\n",
      "(0.89473684210526305, -0.94999999999999996, -1154.0833192620353)\n",
      "(0.94736842105263153, -0.94999999999999996, -1147.3964556302151)\n",
      "(1.0, -0.94999999999999996, -inf)\n"
     ]
    }
   ],
   "source": [
    "for fB, beta in zip(np.linspace(0,1,20), np.ones(20)*-0.95):\n",
    "    print(fB, beta, lnprob([fB, beta]))"
   ]
  },
  {
   "cell_type": "code",
   "execution_count": null,
   "metadata": {
    "collapsed": true
   },
   "outputs": [],
   "source": []
  }
 ],
 "metadata": {
  "kernelspec": {
   "display_name": "Python 2",
   "language": "python",
   "name": "python2"
  },
  "language_info": {
   "codemirror_mode": {
    "name": "ipython",
    "version": 2
   },
   "file_extension": ".py",
   "mimetype": "text/x-python",
   "name": "python",
   "nbconvert_exporter": "python",
   "pygments_lexer": "ipython2",
   "version": "2.7.11"
  }
 },
 "nbformat": 4,
 "nbformat_minor": 0
}
